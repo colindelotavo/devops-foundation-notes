{
 "cells": [
  {
   "attachments": {},
   "cell_type": "markdown",
   "metadata": {},
   "source": [
    "# The IT crowd and the coming storm\n",
    "The IT industry faces a problem of division within its teams, resulting in a harmful conflict of interest that hinders feedback loops and optimisation for the organisation. The institutional causes of this division are due to the conflicting responsibilities of development and operations teams and the separation of duties, incentivising groups to only optimise their own area of concern. The internal misalignment of IT processes and organisations, with outdated practices that cause delays, is no longer acceptable in today's tech-savvy business world. The chapter explores how to change IT culture to align with modern business needs."
   ]
  },
  {
   "attachments": {},
   "cell_type": "markdown",
   "metadata": {},
   "source": [
    "# Use your words\n",
    "In this section, the focus is on two communication aspects in DevOps: blameless postmortems and transparent uptime. Blameless postmortems involve holding a meeting within 24 to 48 hours after a major outage and assigning one person to run the meeting. The goal is to prevent future outages rather than assign blame. It is important to record action items and agree on deadlines. Transparent uptime is about communicating with customers during an outage by admitting failure, sounding like a human, having a communication channel, and being authentic. One person should manage communication during the outage, figure out stakeholders, and be authentic about the issues at hand."
   ]
  },
  {
   "attachments": {},
   "cell_type": "markdown",
   "metadata": {},
   "source": [
    "# Do unto others\n",
    "Collaboration is important in DevOps, but it can be challenging due to misunderstandings and conflicting goals. Breaking down team barriers and getting people from different specialties to work alongside each other can help. However, there may be differences in language and sub-cultures with different terminology. Being open and transparent, allowing people to access chat rooms, team Wiki pages, code, infrastructure, monitoring tool, and ticket tracker can help promote sharing. The practice of ChatOps is especially empowering, using chat clients not only as a gathering place for the team to discuss but as part of the operational system."
   ]
  },
  {
   "attachments": {},
   "cell_type": "markdown",
   "metadata": {},
   "source": [
    "# Throwing things over walls\n",
    "This section emphasises the importance of building a culture of trust and collaboration, and recommends breaking down team barriers by embedding specialists from different areas into cross-functional teams. They also highlight the need for leadership to support the transition and help team members navigate role changes. The video also covers the importance of focusing on organisational and process issues, such as eliminating silos and implementing lean agile processes. They also recommend using minimum viable processes and adapting them as needed, while keeping an eye out for processes that can be removed."
   ]
  },
  {
   "attachments": {},
   "cell_type": "markdown",
   "metadata": {},
   "source": [
    "# Kaizen: Continuous Improvement\n",
    "This section discusses the concept of Kaizen, which means continuous improvement and is a cultural practice in DevOps that originated in Japan. Kaizen is based on six principles and emphasizes going to the actual place where value is created or where a problem is to make improvements. The Kaizen process involves a cycle of plan, do, check, act, and it is a more tactical form of the scientific method. The five Why's is another tool used in Kaizen to get to the root cause of a problem. It involves asking the question \"why\" multiple times until the root cause is identified. They also mention the importance of critical thinking skills and the idea that human error is attributed to an issue in processes."
   ]
  }
 ],
 "metadata": {
  "language_info": {
   "name": "python"
  },
  "orig_nbformat": 4
 },
 "nbformat": 4,
 "nbformat_minor": 2
}
