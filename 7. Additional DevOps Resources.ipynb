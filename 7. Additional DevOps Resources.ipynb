{
 "cells": [
  {
   "attachments": {},
   "cell_type": "markdown",
   "metadata": {},
   "source": [
    "# Unicorns, horses, and donkeys, oh my\n",
    "The concept of DevOps can be applied to three groups: unicorns (startups), horses (enterprise IT), and donkeys (small teams with budgetary constraints). The best way to learn and connect with like-minded individuals is through attending conferences such as DevOpsDays, Velocity, and DevOps Enterprise Summit. There are also technology-specific events and DevOps-related meetups in many cities. "
   ]
  },
  {
   "attachments": {},
   "cell_type": "markdown",
   "metadata": {},
   "source": [
    "# Ten best DevOps books you need to read\n",
    "1. \"The Phoenix Project\" is a novel that walks through one company's problems and their transformation to lean and DevOps principles.\n",
    "\n",
    "2. \"Leading The Transformation\" provides practical advice for directors, VPs, CTOs and anyone in charge of leading IT organisational change of any size.\n",
    "\n",
    "3. \"The DevOps Handbook\" is a standard reference book on DevOps that explains how to create world-class agility, reliability, and security in technology organisations.\n",
    "\n",
    "4. \"The Practice of Cloud System Administration\" is a textbook on system administration topics that covers DevOps principles and practices.\n",
    "\n",
    "5. \"Web Operations\" is a collection of essays from practitioners that cover a wide variety of topics, from monitoring to handling postmortems, to dealing with stability with databases.\n",
    "\n",
    "6. \"Lean Software Development: An Agile Toolkit\" explores the benefits of value stream mapping and waste reduction in software development and provides tools and examples for implementing lean principles.\n",
    "\n",
    "7. \"Effective DevOps\" features practical advice for organisational alignment in DevOps and focuses on both cultural aspects and tooling.\n",
    "\n",
    "8. \"Release It!\" provides design patterns for stability, security, and transparency in production-ready software.\n",
    "\n",
    "9. \"Continuous Delivery\" is a comprehensive book on continuous delivery that provides practices and principles, along with common anti-patterns.\n",
    "\n",
    "10. \"Visible Ops\" boils down IT into four key practices that bring high value to organisations through a lean implementation of change control principles.\n"
   ]
  },
  {
   "attachments": {},
   "cell_type": "markdown",
   "metadata": {},
   "source": [
    "# Navigating the series of tubes\n",
    "The internet is a valuable resource for finding DevOps information, but it can be challenging due to its fragmented nature. Twitter is the most active social network for DevOps. DevOps Weekly is an excellent weekly email newsletter curated by Gareth Rushgrove. DevOps.com, DZone, and InfoQ are generic tech aggregators with DevOps channels. DevOps Cafe, Arrested DevOps, and Food Fight are popular podcasts. Many blogs have valuable posts, including Kitchen Soap, IT Revolution Press, Dev2Ops, Continuous Delivery, Stochastic Resonance, More Than Seven, Agile Admin, and more. SlideShare, YouTube, and Vimeo have recordings of conferences and user group meetings."
   ]
  }
 ],
 "metadata": {
  "language_info": {
   "name": "python"
  },
  "orig_nbformat": 4
 },
 "nbformat": 4,
 "nbformat_minor": 2
}
