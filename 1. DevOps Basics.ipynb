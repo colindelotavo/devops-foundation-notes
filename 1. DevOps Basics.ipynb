{
 "cells": [
  {
   "attachments": {},
   "cell_type": "markdown",
   "metadata": {},
   "source": [
    "# DevOps Core Values\n",
    "### C - Culture\n",
    "Emphasising the mportance of creating a positive culture that promotes collaboration\n",
    "### A - Automation\n",
    "Implementing automation to improve efficiency\n",
    "### M - Measurement\n",
    "Measuring key metrics to track progress and identify areas for improvement\n",
    "### S - Sharing\n",
    "Sharing ideas and problems to drive continuous improvement in a DevOps implementation"
   ]
  },
  {
   "attachments": {},
   "cell_type": "markdown",
   "metadata": {},
   "source": [
    "# DevOps Principles\n",
    "### Systems Thinking\n",
    "Importance of focusing on the entire value chain\n",
    "### Amplify Feedback Loops\n",
    "Creating short and effective feedback loops\n",
    "### Continuous Experimentation\n",
    "Promoting a culture of learning and experimentation to continuously improve the DevOps process"
   ]
  },
  {
   "attachments": {},
   "cell_type": "markdown",
   "metadata": {},
   "source": [
    "# DevOps Playbook\n",
    "### People / Process / Tools\n",
    "Emphasises the importance of people and their roles in a DevOps implementation over the process and tools.\n",
    "### Continuous Delivery\n",
    "Involves coding, testing, and releasing software frequently and in small batches to improve the overall quality and velocity of software development.\n",
    "### Lean Management\n",
    "Uses small batches of work, work in progress limits, feedback loops, and visualization to improve organizational outputs and employee satisfaction.\n",
    "### Change Control\n",
    "Emphasises control over changes in the environment and a light and practical approach to change control that eliminates fragile artifacts and creates a repeatable build process.\n",
    "### Infrastructure as Code\n",
    "Treats systems like code to improve overall quality and velocity and enhance organizational outputs and employee satisfaction."
   ]
  },
  {
   "attachments": {},
   "cell_type": "markdown",
   "metadata": {},
   "source": [
    "# DevOps Practices\n",
    "### 1. Chaos Monkey\n",
    "Netflix invented a piece of software called Chaos Monkey, which forces developers and operators creating systems to engineer resiliency into their services instead of assuming that their infrastructure is always on.\n",
    "### 2. Blue/Green Deployments\n",
    "This deployment pattern involves having two identical systems, blue and green, one live and the other offline, and to perform an upgrade, you upgrade the offline system, test it, and then shift production traffic over to it.\n",
    "### 3. Dependency Injection\n",
    "This software design pattern focuses on loosely coupled dependencies and ensures that the application shouldn't know anything about its external dependencies.\n",
    "### 4. Andon Cords\n",
    "This is an innovation used by Toyota on its production line, which can be implemented in your software delivery pipeline to stop ship when a problem is detected and prevent the bug from propagating downstream.\n",
    "### 5. The Cloud\n",
    "Cloud technologies provide an API-driven way to create and control infrastructure, which allows you to treat your systems infrastructure exactly like any other program component.\n",
    "### 6. Embedded Teams\n",
    "Embedding an Operations Engineer on each development team and making the team responsible for all its own work can resolve conflicts and promote cooperation.\n",
    "### 7. Blameless Postmortems\n",
    "Examining failures and learning from them without blaming individuals helps avoid logical fallacies and improve the situation.\n",
    "### 8. Status Pages\n",
    "Creating public status pages and communicating promptly and clearly during outages has been shown to increase customer satisfaction and retain trust.\n",
    "### 9. Developers on Call\n",
    "Putting developers on call for the services they create creates a fast feedback loop and results in rapid improvements.\n",
    "### 10. Incident Command System\n",
    "A process for managing incidents in IT that can work for both small and large incidents.\n"
   ]
  },
  {
   "attachments": {},
   "cell_type": "markdown",
   "metadata": {},
   "source": [
    "# Tool Criteria\n",
    "### Programmable\n",
    "Automatable, being completely UI driven can lead to failure\n",
    "### Verifiable\n",
    "Exposure to its action and validating its success\n",
    "### Well-behaved\n",
    "Easily configurable, testable, and deployable\n",
    "\n",
    "Note: Existing tools are preferred, but writing your own tools are normal."
   ]
  }
 ],
 "metadata": {
  "language_info": {
   "name": "python"
  },
  "orig_nbformat": 4
 },
 "nbformat": 4,
 "nbformat_minor": 2
}
