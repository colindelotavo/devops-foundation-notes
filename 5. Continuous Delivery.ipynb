{
 "cells": [
  {
   "attachments": {},
   "cell_type": "markdown",
   "metadata": {},
   "source": [
    "# Small + Fast = Better\n",
    "Continuous Integration (CI) and Continuous Delivery (CD) are essential practices in DevOps, enabling faster time-to-market, while also ensuring higher quality. CI involves automatically building and testing the entire application frequently, ideally with each source code check-in. CD goes further by deploying every change to a production-like environment and performing automated integration and acceptance testing. High-performing IT organisations can deploy on demand and have a three times lower change failure rate compared to their peers. This is achieved by integrating testing earlier in the delivery pipeline, reducing work in progress, and working from the master branch. Continuous Delivery also helps in reducing mean time to recover (MTTR) by enabling faster remediation of failures and easier identification of error sources, since changes are made incrementally, rather than all at once."
   ]
  },
  {
   "attachments": {},
   "cell_type": "markdown",
   "metadata": {},
   "source": [
    "# Continuous integration practices\n",
    "### 1. Builds should pass the coffee test\n",
    "Ensure that builds are completed quickly, within the time it takes to make a cup of coffee, to establish a fast feedback loop that encourages automated testing, reduces rework, and promotes a smoother development process.\n",
    "### 2. Commit really small bits\n",
    "Submit the smallest amount of code per commit, facilitating easier comprehension for team members, and simplifying the process of isolating and addressing failures.\n",
    "### 3. Fix broken builds immediately\n",
    "Leaving the build broken blocks delivery, and the team should delay meetings or stop other work until it is fixed to set a positive tone for the delivery culture.\n",
    "### 4. Use a trunk-based development flow\n",
    "Adopt a trunk-based workflow where all developers work on the same codebase, frequently commit code changes, and use feature flags instead of separate code branches to limit work in progress, improve collaboration, and minimise errors during merging.\n",
    "### 5. Don't allow flaky tests\n",
    "Fix any tests that sometimes fail and sometimes pass without a clear reason, as it is hard to trust the build if the tests are inconsistent.\n",
    "### 6. Return status, log, and artifact\n",
    "The build should provide a simple pass/fail status, a log of all the tests run and results, and an artifact uploaded and tagged with a build number to ensure trust, audibility, and immutability."
   ]
  },
  {
   "attachments": {},
   "cell_type": "markdown",
   "metadata": {},
   "source": [
    "# The continuous delivery pipeline\n",
    "\n",
    "### 1. Only build artifacts once\n",
    "Artifacts should be created upon successful completion of each build, stored in a central artifact repository, and not rebuilt for staging, testing, or production environments to reduce rework and ensure consistency across the pipeline.\n",
    "### 2. Artifacts should be immutable\n",
    "Artifacts should be prevented from being changed to ensure auditability and build trust between teams during debugging, and to allow teams to easily track specific code versions in source control to a successful build artifact to a running system.\n",
    "### 3. Deployment should go to a copy of production\n",
    "Deployments should be made to a staging/test environment that is a replica of the production environment, including all the necessary elements such as load balancers, network settings, security controls, and matching data. This allows for accurate testing of code and deployment processes and ensures that the deployment process works in the production environment.\n",
    "### 4. Stop deploys if a previous step fails\n",
    "The continuous delivery pipeline should be stopped immediately if any previous stage of the pipeline has failed, preventing errors from propagating to the next stage and ensuring that the pipeline is stopped until the previous stage has been fixed.\n",
    "### 5. Deployments should be idempotent\n",
    "Redeploying should leave the system in the same state, making it easy to redeploy without introducing new errors or causing inconsistencies. This can be achieved using a mutable packaging mechanism like Docker containers or through a configuration management tool like Puppet or Chef, ensuring that the deployment process is consistent and predictable."
   ]
  },
  {
   "attachments": {},
   "cell_type": "markdown",
   "metadata": {},
   "source": [
    "# The role of QA\n",
    "### 1. Unit testing\n",
    "This type of testing is done at the lowest level of the language or framework to validate individual functions. Unit tests are usually the fastest and can easily run on the developer's machine.\n",
    "### 2. Code hygiene\n",
    "Code hygiene involves using best practices from the development community to ensure that code is clean, readable, and maintainable. This can be accomplished using linters, formatters, and banned function checks.\n",
    "### 3. Integration testing\n",
    "Integration testing is a type of technical testing that is performed with all the app's components and dependencies operating in a test environment. It is similar to unit testing but covers multiple components working together.\n",
    "### 4. TDD, BDD, ATDD\n",
    "#### TDD - Test Driven Development\n",
    "TDD is a development practice that starts with writing tests before writing any code. The idea is to start with the desired outcome written as a test, then write code to pass the test. This approach encourages high feedback and results in a comprehensive test suite being developed alongside the application.\n",
    "#### BDD - Behaviour Driven Development\n",
    "BDD involves working with a business stakeholder to describe the desired business functionality of the application and expressing the test in a DSL close to the English language. BDD is useful for ensuring that the application meets the needs of the business.\n",
    "#### ATDD - Acceptance Test Driven Development\n",
    "ATDD builds on TDD and BDD, and involves defining scenarios from the end user's perspective. You write automated tests with examples of these use cases and then run them repeatedly while the code is being developed. ATDD helps ensure that the application meets the needs of end users.\n",
    "### 5. Infrastructure testing\n",
    "Infrastructure testing involves testing the host and configuration management to ensure that the infrastructure is working correctly. \n",
    "### 6. Performance testing\n",
    "Performance testing involves testing the application's performance under load and stress to ensure that it is performant and can handle high levels of traffic.\n",
    "### 7. Security testing\n",
    "Security testing involves testing for simulated security attacks to ensure that the application is secure and protected against potential threats."
   ]
  },
  {
   "attachments": {},
   "cell_type": "markdown",
   "metadata": {},
   "source": [
    "# Your CI toolchain\n",
    "### 1. Version control\n",
    "This phase involves committing code changes and viewing the entire history of all changes made. Popular tools for version control include Git, GitHub, and Bitbucket. These tools allow developers to stay in sync with each other by treating each change as an independent layer in the code.\n",
    "### 2. Continuous Integration systems\n",
    "Jenkins is a popular open-source CI system, while Travis CI and CircleCI are popular CI-as-a-service options. Other options include GoCD, Bamboo, and TeamCity.\n",
    "### 3. Build\n",
    "Build tools are language-dependent and execute a consistent set of steps every time. Options include Make, Rake, and Maven.\n",
    "### 4. Test\n",
    "Testing tools include unit testing frameworks like JUnit, integration testing frameworks like Robot and Cucumber, and performance testing tools like ApacheBench and JMeter. There are also code hygiene tools like Golint or Gofmt for Golang or RuboCop for Ruby.\n",
    "### 5. Artifact repository\n",
    "Artifact repositories like Artifactory or Nexus are used to store artifacts. Specific outputs like a Docker image can be sent to Docker Hub or your internal Docker registry. You can also use tools like Amazon S3 to upload your artifacts.\n",
    "### 6. Deployment\n",
    "Deployment tools include Rundeck and configuration management tools like UrbanCode. There's also an open source offering from Etsy, called Deployinator. This phase involves automating a workflow across your systems to deploy your code.\n",
    "\n",
    "Note: It's recommended to focus on building the easiest thing possible for each portion of the pipeline (minimum viable product) and to avoid over-investing in tools beyond what the product needs. Anything that doesn't directly add value to the product is considered waste."
   ]
  }
 ],
 "metadata": {
  "language_info": {
   "name": "python"
  },
  "orig_nbformat": 4
 },
 "nbformat": 4,
 "nbformat_minor": 2
}
